{
 "cells": [
  {
   "cell_type": "markdown",
   "id": "50640131-293d-46d3-9b75-493343d67611",
   "metadata": {},
   "source": [
    "# **Welcome to the Ultimate Machine Learning Adventure**\n",
    "\n",
    "Dive into this comprehensive notebook and embark on an exciting journey through the entire machine learning lifecycle, from data ingestion to deployment. This notebook is crafted to empower you to run full-scale projects from scratch, offering inspiration and guidance for end-to-end machine learning endeavors.\n",
    "\n",
    "# What Will We Use Today:\n",
    "\n",
    "* MLflow: Seamlessly manage the machine learning lifecycle,\n",
    "covering experimentation, reproducibility, and deployment.\n",
    "* Docker: Containerize your applications for consistent, scalable, and reproducible environments.\n",
    "* Flask: Develop and deploy your machine learning models as powerful web applications.\n",
    "* HTML/CSS: Design sleek and responsive web interfaces to interact with your models effortlessly.\n",
    "* GitHub: Harness version control to efficiently manage your codebase and collaborate seamlessly.\n",
    "\n",
    "With this notebook, you'll gain the skills to build and deploy robust machine learning projects, transforming raw data into valuable insights and functional applications. Let's dive in and explore how these powerful tools and technologies can bring your machine learning ideas to life!"
   ]
  },
  {
   "cell_type": "code",
   "execution_count": 1,
   "id": "0b5036c4-ceff-45ab-a4d9-913311785d17",
   "metadata": {},
   "outputs": [],
   "source": [
    "import pandas as pd\n",
    "import numpy as np\n",
    "import matplotlib.pyplot as plt\n",
    "import seaborn as sns\n",
    "\n",
    "from sklearn.model_selection import train_test_split\n",
    "from sklearn.ensemble import RandomForestRegressor, GradientBoostingRegressor\n",
    "\n",
    "from sklearn.metrics import mean_absolute_error, accuracy_score, r2_score, f1_score, mean_squared_error\n",
    "\n",
    "import mlflow\n",
    "import mlflow.sklearn\n",
    "\n",
    "import joblib"
   ]
  },
  {
   "cell_type": "markdown",
   "id": "921913fa-07ab-4f65-b01e-b846e7d1e343",
   "metadata": {},
   "source": [
    "# Read Data"
   ]
  },
  {
   "cell_type": "code",
   "execution_count": 2,
   "id": "6a893c0b-9c13-4f3a-95a9-34848fd672dd",
   "metadata": {},
   "outputs": [],
   "source": [
    "def style_dataframe(df):\n",
    "  \"\"\"\n",
    "  Applies a consistent styling to the DataFrame.\n",
    "\n",
    "  Parameters:\n",
    "      df (pd.DataFrame): The DataFrame to style.\n",
    "\n",
    "  Returns:\n",
    "      pd.io.formats.style.Styler: The styled DataFrame.\n",
    "  \"\"\"\n",
    "  # Use a color palette for header and even/odd rows\n",
    "  palette = sns.color_palette(\"coolwarm\", n_colors=63)\n",
    "\n",
    "  return df.style.set_table_styles(\n",
    "      [\n",
    "          {\n",
    "              'selector': 'thead th',\n",
    "              'props': [\n",
    "                  ('background-color', palette[0]),  # First color from palette for header\n",
    "                  ('color', '#FFFFFF'),  # White text for header\n",
    "                  ('font-weight', 'bold'),\n",
    "                  ('text-align', 'center'),\n",
    "                  ('border', f'1px solid {palette[0]}'),  # Same color as header background for border\n",
    "              ]\n",
    "          },\n",
    "          {\n",
    "              'selector': 'tbody td',\n",
    "              'props': [\n",
    "                  ('background-color', '#FFFFFF'),  # White background for cells\n",
    "                  ('border', '1px solid #DDDDDD'),  # Light grey border for cells\n",
    "                  ('color', '#333333'),  # Dark grey text for better readability\n",
    "              ]\n",
    "          },\n",
    "          {\n",
    "              'selector': 'tbody tr:nth-child(even) td',\n",
    "              'props': [\n",
    "                  ('background-color', palette[1])  # Second color from palette for even rows\n",
    "              ]\n",
    "          },\n",
    "          {\n",
    "              'selector': 'tbody tr:nth-child(odd) td',\n",
    "              'props': [\n",
    "                  ('background-color', palette[2])  # Third color from palette for odd rows\n",
    "              ]\n",
    "          }\n",
    "      ]\n",
    "  ).set_properties(**{'text-align': 'center'}).set_table_attributes('style=\"width:100%;\"').hide(axis='index')\n"
   ]
  },
  {
   "cell_type": "code",
   "execution_count": 3,
   "id": "67a58ee7-bee9-4004-98c7-37fdc996aa3b",
   "metadata": {},
   "outputs": [
    {
     "data": {
      "text/html": [
       "<style type=\"text/css\">\n",
       "#T_e3249 thead th {\n",
       "  background-color: (0.24809121780392157, 0.3260130233176471, 0.7776686513529412);\n",
       "  color: #FFFFFF;\n",
       "  font-weight: bold;\n",
       "  text-align: center;\n",
       "  border: 1px solid (0.24809121780392157, 0.3260130233176471, 0.7776686513529412);\n",
       "}\n",
       "#T_e3249 tbody td {\n",
       "  background-color: #FFFFFF;\n",
       "  border: 1px solid #DDDDDD;\n",
       "  color: #333333;\n",
       "}\n",
       "#T_e3249 tbody tr:nth-child(even) td {\n",
       "  background-color: (0.26638146835294113, 0.35330440842352945, 0.8016373194980392);\n",
       "}\n",
       "#T_e3249 tbody tr:nth-child(odd) td {\n",
       "  background-color: (0.28527277752941177, 0.38012942263529415, 0.8234685512470589);\n",
       "}\n",
       "#T_e3249_row0_col0, #T_e3249_row0_col1, #T_e3249_row1_col0, #T_e3249_row1_col1, #T_e3249_row2_col0, #T_e3249_row2_col1, #T_e3249_row3_col0, #T_e3249_row3_col1 {\n",
       "  text-align: center;\n",
       "}\n",
       "</style>\n",
       "<table id=\"T_e3249\" style=\"width:100%;\">\n",
       "  <thead>\n",
       "    <tr>\n",
       "      <th id=\"T_e3249_level0_col0\" class=\"col_heading level0 col0\" >cgpa</th>\n",
       "      <th id=\"T_e3249_level0_col1\" class=\"col_heading level0 col1\" >package</th>\n",
       "    </tr>\n",
       "  </thead>\n",
       "  <tbody>\n",
       "    <tr>\n",
       "      <td id=\"T_e3249_row0_col0\" class=\"data row0 col0\" >6.890000</td>\n",
       "      <td id=\"T_e3249_row0_col1\" class=\"data row0 col1\" >3.260000</td>\n",
       "    </tr>\n",
       "    <tr>\n",
       "      <td id=\"T_e3249_row1_col0\" class=\"data row1 col0\" >5.120000</td>\n",
       "      <td id=\"T_e3249_row1_col1\" class=\"data row1 col1\" >1.980000</td>\n",
       "    </tr>\n",
       "    <tr>\n",
       "      <td id=\"T_e3249_row2_col0\" class=\"data row2 col0\" >7.820000</td>\n",
       "      <td id=\"T_e3249_row2_col1\" class=\"data row2 col1\" >3.250000</td>\n",
       "    </tr>\n",
       "    <tr>\n",
       "      <td id=\"T_e3249_row3_col0\" class=\"data row3 col0\" >7.420000</td>\n",
       "      <td id=\"T_e3249_row3_col1\" class=\"data row3 col1\" >3.670000</td>\n",
       "    </tr>\n",
       "  </tbody>\n",
       "</table>\n"
      ],
      "text/plain": [
       "<pandas.io.formats.style.Styler at 0x176dbba6850>"
      ]
     },
     "metadata": {},
     "output_type": "display_data"
    }
   ],
   "source": [
    "# Read the data from a CSV file (replace 'your_data.csv' with your actual file path)\n",
    "df = pd.read_csv(r\"C:\\Users\\Moin\\Science learning\\Data_Projects\\Machine Learning\\Self_learning\\csv\\placement.csv\")\n",
    "\n",
    "# Optionally, display the rows using head()\n",
    "style = style_dataframe(df.head(4))\n",
    "display(style)  # Use display to render the styled DataFrame\n"
   ]
  },
  {
   "cell_type": "markdown",
   "id": "89854259-c9d1-42c3-9aff-cd09a8d26721",
   "metadata": {},
   "source": [
    "# Getting Started With MlFlow!"
   ]
  },
  {
   "cell_type": "code",
   "execution_count": 4,
   "id": "1ed33c54-b7a0-4a54-aff5-449f02268d26",
   "metadata": {},
   "outputs": [
    {
     "name": "stderr",
     "output_type": "stream",
     "text": [
      "2024/08/07 20:52:55 INFO mlflow.tracking.fluent: Experiment with name 'cgpa_model' does not exist. Creating a new experiment.\n"
     ]
    },
    {
     "data": {
      "text/plain": [
       "<Experiment: artifact_location='file:///C:/Users/Moin/Science%20learning/Kaggle/Kaggle.notebookv1/mlruns/249768216210873357', creation_time=1723044175335, experiment_id='249768216210873357', last_update_time=1723044175335, lifecycle_stage='active', name='cgpa_model', tags={}>"
      ]
     },
     "execution_count": 4,
     "metadata": {},
     "output_type": "execute_result"
    }
   ],
   "source": [
    "mlflow.set_experiment('cgpa_model')"
   ]
  },
  {
   "cell_type": "markdown",
   "id": "13935c75-66da-49e8-9291-484898d13bc4",
   "metadata": {},
   "source": [
    "# Explore Dataset & Visualize Data"
   ]
  },
  {
   "cell_type": "code",
   "execution_count": 5,
   "id": "2c8ee456-7058-4eee-b27d-a3697ad2a7d5",
   "metadata": {},
   "outputs": [
    {
     "data": {
      "text/plain": [
       "cgpa       0\n",
       "package    0\n",
       "dtype: int64"
      ]
     },
     "execution_count": 5,
     "metadata": {},
     "output_type": "execute_result"
    }
   ],
   "source": [
    "df.isnull().sum()"
   ]
  },
  {
   "cell_type": "code",
   "execution_count": 6,
   "id": "9c0c7eaa-fa7e-48ce-8cf2-07540ee550ef",
   "metadata": {},
   "outputs": [
    {
     "data": {
      "text/html": [
       "<div>\n",
       "<style scoped>\n",
       "    .dataframe tbody tr th:only-of-type {\n",
       "        vertical-align: middle;\n",
       "    }\n",
       "\n",
       "    .dataframe tbody tr th {\n",
       "        vertical-align: top;\n",
       "    }\n",
       "\n",
       "    .dataframe thead th {\n",
       "        text-align: right;\n",
       "    }\n",
       "</style>\n",
       "<table border=\"1\" class=\"dataframe\">\n",
       "  <thead>\n",
       "    <tr style=\"text-align: right;\">\n",
       "      <th></th>\n",
       "      <th>cgpa</th>\n",
       "      <th>package</th>\n",
       "    </tr>\n",
       "  </thead>\n",
       "  <tbody>\n",
       "    <tr>\n",
       "      <th>count</th>\n",
       "      <td>1854.000000</td>\n",
       "      <td>1854.000000</td>\n",
       "    </tr>\n",
       "    <tr>\n",
       "      <th>mean</th>\n",
       "      <td>6.993592</td>\n",
       "      <td>2.997104</td>\n",
       "    </tr>\n",
       "    <tr>\n",
       "      <th>std</th>\n",
       "      <td>1.067733</td>\n",
       "      <td>0.689430</td>\n",
       "    </tr>\n",
       "    <tr>\n",
       "      <th>min</th>\n",
       "      <td>4.260000</td>\n",
       "      <td>1.370000</td>\n",
       "    </tr>\n",
       "    <tr>\n",
       "      <th>25%</th>\n",
       "      <td>6.190000</td>\n",
       "      <td>2.490000</td>\n",
       "    </tr>\n",
       "    <tr>\n",
       "      <th>50%</th>\n",
       "      <td>6.960000</td>\n",
       "      <td>2.990000</td>\n",
       "    </tr>\n",
       "    <tr>\n",
       "      <th>75%</th>\n",
       "      <td>7.730000</td>\n",
       "      <td>3.490000</td>\n",
       "    </tr>\n",
       "    <tr>\n",
       "      <th>max</th>\n",
       "      <td>9.580000</td>\n",
       "      <td>4.620000</td>\n",
       "    </tr>\n",
       "  </tbody>\n",
       "</table>\n",
       "</div>"
      ],
      "text/plain": [
       "              cgpa      package\n",
       "count  1854.000000  1854.000000\n",
       "mean      6.993592     2.997104\n",
       "std       1.067733     0.689430\n",
       "min       4.260000     1.370000\n",
       "25%       6.190000     2.490000\n",
       "50%       6.960000     2.990000\n",
       "75%       7.730000     3.490000\n",
       "max       9.580000     4.620000"
      ]
     },
     "execution_count": 6,
     "metadata": {},
     "output_type": "execute_result"
    }
   ],
   "source": [
    "df.describe()"
   ]
  },
  {
   "cell_type": "code",
   "execution_count": 7,
   "id": "f903b029-a102-4fa2-a91f-760d7ef3b159",
   "metadata": {},
   "outputs": [
    {
     "name": "stdout",
     "output_type": "stream",
     "text": [
      "<class 'pandas.core.frame.DataFrame'>\n",
      "RangeIndex: 1854 entries, 0 to 1853\n",
      "Data columns (total 2 columns):\n",
      " #   Column   Non-Null Count  Dtype  \n",
      "---  ------   --------------  -----  \n",
      " 0   cgpa     1854 non-null   float64\n",
      " 1   package  1854 non-null   float64\n",
      "dtypes: float64(2)\n",
      "memory usage: 29.1 KB\n"
     ]
    }
   ],
   "source": [
    "df.info()"
   ]
  },
  {
   "cell_type": "code",
   "execution_count": 8,
   "id": "5c4c09df-12ca-4595-b233-23488475162b",
   "metadata": {},
   "outputs": [
    {
     "data": {
      "text/html": [
       "<div>\n",
       "<style scoped>\n",
       "    .dataframe tbody tr th:only-of-type {\n",
       "        vertical-align: middle;\n",
       "    }\n",
       "\n",
       "    .dataframe tbody tr th {\n",
       "        vertical-align: top;\n",
       "    }\n",
       "\n",
       "    .dataframe thead th {\n",
       "        text-align: right;\n",
       "    }\n",
       "</style>\n",
       "<table border=\"1\" class=\"dataframe\">\n",
       "  <thead>\n",
       "    <tr style=\"text-align: right;\">\n",
       "      <th></th>\n",
       "      <th>cgpa</th>\n",
       "      <th>package</th>\n",
       "    </tr>\n",
       "  </thead>\n",
       "  <tbody>\n",
       "    <tr>\n",
       "      <th>cgpa</th>\n",
       "      <td>1.000000</td>\n",
       "      <td>0.880716</td>\n",
       "    </tr>\n",
       "    <tr>\n",
       "      <th>package</th>\n",
       "      <td>0.880716</td>\n",
       "      <td>1.000000</td>\n",
       "    </tr>\n",
       "  </tbody>\n",
       "</table>\n",
       "</div>"
      ],
      "text/plain": [
       "             cgpa   package\n",
       "cgpa     1.000000  0.880716\n",
       "package  0.880716  1.000000"
      ]
     },
     "execution_count": 8,
     "metadata": {},
     "output_type": "execute_result"
    }
   ],
   "source": [
    "corr = df.corr()\n",
    "corr"
   ]
  },
  {
   "cell_type": "code",
   "execution_count": 9,
   "id": "d535e3c3-78dd-45d7-a685-dc557e94e041",
   "metadata": {},
   "outputs": [
    {
     "name": "stderr",
     "output_type": "stream",
     "text": [
      "No artists with labels found to put in legend.  Note that artists whose label start with an underscore are ignored when legend() is called with no argument.\n"
     ]
    },
    {
     "data": {
      "image/png": "[encoded data removed]",
      "text/plain": [
       "<Figure size 600x460 with 1 Axes>"
      ]
     },
     "metadata": {},
     "output_type": "display_data"
    }
   ],
   "source": [
    "# Set plot size\n",
    "plt.figure(figsize=(6, 4.6))\n",
    "\n",
    "# Create the scatterplot with customization\n",
    "sns.scatterplot(data=df, x='cgpa', y='package', color = 'Salmon')\n",
    "\n",
    "# Add labels and title\n",
    "plt.xlabel('CGPA')\n",
    "plt.ylabel('Package')\n",
    "plt.title('CGPA vs Package')\n",
    "\n",
    "# Grid and legend\n",
    "plt.grid(True)\n",
    "plt.legend(title='Scatter Plot')\n",
    "\n",
    "# Show the plot\n",
    "plt.show()"
   ]
  },
  {
   "cell_type": "code",
   "execution_count": 10,
   "id": "3c401e6c-486d-45a0-b656-cc9313776498",
   "metadata": {},
   "outputs": [
    {
     "data": {
      "image/png": "[encoded data removed]",
      "text/plain": [
       "<Figure size 500x300 with 1 Axes>"
      ]
     },
     "metadata": {},
     "output_type": "display_data"
    }
   ],
   "source": [
    "# Set plot size\n",
    "plt.figure(figsize=(5, 3))\n",
    "\n",
    "# Create the barplot with customization\n",
    "sns.barplot(data=df, palette=['IndianRed', 'LightSalmon'])\n",
    "\n",
    "# Add labels and title\n",
    "plt.xlabel('Category (CGPA/Package)')\n",
    "plt.ylabel('Value')\n",
    "plt.title('Comparison of CGPA and Package')\n",
    "\n",
    "# Rotate x-axis labels if needed\n",
    "plt.xticks(rotation=45)\n",
    "\n",
    "# Show the plot\n",
    "plt.show()"
   ]
  },
  {
   "cell_type": "code",
   "execution_count": 11,
   "id": "a2708916-edaa-44be-827b-10d205442e7b",
   "metadata": {},
   "outputs": [
    {
     "data": {
      "text/plain": [
       "<Axes: >"
      ]
     },
     "execution_count": 11,
     "metadata": {},
     "output_type": "execute_result"
    },
    {
     "data": {
      "image/png": "[encoded data removed]",
      "text/plain": [
       "<Figure size 640x480 with 2 Axes>"
      ]
     },
     "metadata": {},
     "output_type": "display_data"
    }
   ],
   "source": [
    "sns.heatmap(data = corr, annot = True)"
   ]
  },
  {
   "cell_type": "markdown",
   "id": "b2e36125-7e0e-4e94-94ab-ea8d11a7e64e",
   "metadata": {},
   "source": [
    "# Prepare Data for Model"
   ]
  },
  {
   "cell_type": "code",
   "execution_count": 12,
   "id": "612b787c-5156-49ec-8373-43210c7ee3ae",
   "metadata": {},
   "outputs": [],
   "source": [
    "X= df[['cgpa']]\n",
    "y = df['package']\n",
    "\n",
    "X_train, X_test, y_train, y_test = train_test_split(X, y, test_size=0.2, random_state=42)"
   ]
  },
  {
   "cell_type": "code",
   "execution_count": 13,
   "id": "b57baa78-df82-4351-82bc-f22dce121534",
   "metadata": {
    "scrolled": true
   },
   "outputs": [],
   "source": [
    "with mlflow.start_run():\n",
    "\n",
    "    model = RandomForestRegressor()\n",
    "    model.fit(X_train, y_train)\n",
    "    score = model.score(X_train, y_train)*100, model.score(X_test, y_test)*100"
   ]
  },
  {
   "cell_type": "code",
   "execution_count": 14,
   "id": "475dd5ab-ea82-4b0d-9c1e-f59c4adf2508",
   "metadata": {},
   "outputs": [],
   "source": [
    "y_pred = model.predict(X_test)\n",
    "mse = mean_squared_error(y_pred, y_test)\n",
    "mae = mean_absolute_error(y_pred, y_test)\n",
    "r2 = r2_score(y_pred, y_test)"
   ]
  },
  {
   "cell_type": "code",
   "execution_count": 15,
   "id": "573b1dd7-cf47-4c83-b047-1884192c42cc",
   "metadata": {},
   "outputs": [
    {
     "name": "stdout",
     "output_type": "stream",
     "text": [
      "R2 Score: 0.9363501682918219\n",
      "Mean Squared Error: 0.026302120177890093\n",
      "Mean Absolute Error: 0.07201762075898047\n",
      "Score Test:(95.33016438674132, 93.91266229086438)\n"
     ]
    }
   ],
   "source": [
    "print(f\"R2 Score: {r2}\")\n",
    "print(f\"Mean Squared Error: {mse}\")\n",
    "print(f\"Mean Absolute Error: {mae}\")\n",
    "print(f'Score Test:{score}')"
   ]
  },
  {
   "cell_type": "markdown",
   "id": "77203b56-5ada-4464-a76b-c338b4d64e5c",
   "metadata": {},
   "source": [
    "# MlFlow Exprement Model LifeCycle"
   ]
  },
  {
   "cell_type": "code",
   "execution_count": 16,
   "id": "7fb29a88-9447-41fb-9855-1f29b9cc4121",
   "metadata": {},
   "outputs": [],
   "source": [
    "mlflow.log_metric('Mean Squared Error', mse)\n",
    "mlflow.log_metric('Absolute Mean Error',mae)\n",
    "mlflow.log_metric('R2 Score', r2)"
   ]
  },
  {
   "cell_type": "code",
   "execution_count": 17,
   "id": "f651a4c9-859e-4e4d-a6ac-e8ade1c36d79",
   "metadata": {},
   "outputs": [
    {
     "name": "stderr",
     "output_type": "stream",
     "text": [
      "C:\\ProgramData\\anaconda3\\Lib\\site-packages\\_distutils_hack\\__init__.py:33: UserWarning: Setuptools is replacing distutils.\n",
      "  warnings.warn(\"Setuptools is replacing distutils.\")\n",
      "2024/08/07 20:53:12 WARNING mlflow.models.model: Input example should be provided to infer model signature if the model signature is not provided when logging the model.\n"
     ]
    },
    {
     "data": {
      "text/plain": [
       "<mlflow.models.model.ModelInfo at 0x176dc6b00d0>"
      ]
     },
     "execution_count": 17,
     "metadata": {},
     "output_type": "execute_result"
    }
   ],
   "source": [
    "mlflow.set_tag(\"Model type\", 'Regression model')\n",
    "mlflow.set_tag('algorithm', 'RandomForestRegressor')\n",
    "mlflow.set_tag('Data Size', len(df))\n",
    "mlflow.set_tag('Random_State','42')\n",
    "mlflow.sklearn.log_model(model,'randomForest')"
   ]
  },
  {
   "cell_type": "code",
   "execution_count": 18,
   "id": "d8781c0e-4ea7-4230-89cc-68da917c52c4",
   "metadata": {},
   "outputs": [],
   "source": [
    "mlflow.end_run()"
   ]
  },
  {
   "cell_type": "markdown",
   "id": "2714e05b-442e-42dc-b44e-28c9bfaaaf2f",
   "metadata": {},
   "source": [
    "# Create Joblib File"
   ]
  },
  {
   "cell_type": "code",
   "execution_count": 19,
   "id": "a2092a5c-7749-4ef6-93b2-0216c5f9a0cd",
   "metadata": {},
   "outputs": [],
   "source": [
    "import joblib\n",
    "\n",
    "# Save the model\n",
    "joblib.dump(model, 'model.joblib')\n",
    "\n",
    "# Load the saved model\n",
    "loaded_model = joblib.load('model.joblib')\n",
    "\n",
    "# Use the loaded model for predictions\n",
    "predictions = loaded_model.predict(X_test)"
   ]
  },
  {
   "cell_type": "markdown",
   "id": "ded1ac07-2e53-44e5-b7f6-1fc92445e5f3",
   "metadata": {},
   "source": [
    "## This is Basic End to End Machine Learning Model I Created To Understand Easily\r\n",
    "\r\n",
    "Model: Random Forest Regressor\r\n",
    "Data: The model is trained on a dataset containing CGPA and corresponding placement package information.\r\n",
    "Deployment: The model is deployed as a Flask application within a Docker container for easy deployment and scalability.\r\n",
    "Prediction: Users can input a CGPA and receive a predicted placement package.\r\n",
    "\r\n",
    "# Pull Image from dockerhub:   \r\n",
    "**docker pull orhfusion/cgpa_prediction**\r\n",
    "\r\n",
    "# Or you can refer to my GitHub repository to get files:   \r\n",
    "https://github.com/OrhFusion/model.package_prediction.git\r\n",
    "\r\n",
    "\r\n",
    "* Flask\r\n",
    "* Html\r\n",
    "* Dockerfile\r\n",
    "* app.py\r\n",
    "* Details\r\n",
    "* Dependencies (requirements.txt5\r\n",
    "\r\n",
    "Exposed: Port = 8000."
   ]
  },
  {
   "cell_type": "code",
   "execution_count": null,
   "id": "5c7e5f0f-5cb9-4bc8-b623-e0f5bec4fb9f",
   "metadata": {},
   "outputs": [],
   "source": []
  }
 ],
 "metadata": {
  "kernelspec": {
   "display_name": "Python 3 (ipykernel)",
   "language": "python",
   "name": "python3"
  },
  "language_info": {
   "codemirror_mode": {
    "name": "ipython",
    "version": 3
   },
   "file_extension": ".py",
   "mimetype": "text/x-python",
   "name": "python",
   "nbconvert_exporter": "python",
   "pygments_lexer": "ipython3",
   "version": "3.11.7"
  }
 },
 "nbformat": 4,
 "nbformat_minor": 5
}
